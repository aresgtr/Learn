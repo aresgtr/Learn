{
 "cells": [
  {
   "cell_type": "markdown",
   "metadata": {
    "graffitiCellId": "id_wdug686"
   },
   "source": [
    "> TIP: Remember, code with dotted lines has a tool tip and voice walkthrough!"
   ]
  },
  {
   "cell_type": "code",
   "execution_count": 1,
   "metadata": {
    "graffitiCellId": "id_hy3x04l"
   },
   "outputs": [],
   "source": [
    "# Import Package\n",
    "from cryptography.fernet import Fernet"
   ]
  },
  {
   "cell_type": "code",
   "execution_count": 2,
   "metadata": {
    "graffitiCellId": "id_ojhrtp0"
   },
   "outputs": [
    {
     "name": "stdout",
     "output_type": "stream",
     "text": [
      "b'uIIR2wf2wJfhPnd1tkuG-g3INcPllJxAhNY5j9veKGA='\n"
     ]
    }
   ],
   "source": [
    "# Generate a Key and Instantiate a Fernet Instance\n",
    "key = Fernet.generate_key()\n",
    "f = Fernet(key)\n",
    "print(key)"
   ]
  },
  {
   "cell_type": "code",
   "execution_count": 3,
   "metadata": {
    "graffitiCellId": "id_6c7hjw4"
   },
   "outputs": [],
   "source": [
    "# Define our message\n",
    "plaintext = b\"encryption is very useful\""
   ]
  },
  {
   "cell_type": "code",
   "execution_count": 4,
   "metadata": {
    "graffitiCellId": "id_595rfih"
   },
   "outputs": [
    {
     "name": "stdout",
     "output_type": "stream",
     "text": [
      "b'gAAAAABe4ZoeFKv1G_RabfN_yqp0UC4XpKHf3504QKJq72Lk87J50gatJhHHNVGWDzim7qyI5EqlVFzjP3rx_2eZ0JMMsw1lYHD2wj7c9ytCPDSzb4grNFc='\n"
     ]
    }
   ],
   "source": [
    "# Encrypt\n",
    "ciphertext = f.encrypt(plaintext)\n",
    "print(ciphertext)"
   ]
  },
  {
   "cell_type": "code",
   "execution_count": 5,
   "metadata": {
    "graffitiCellId": "id_v8jg1f4"
   },
   "outputs": [
    {
     "name": "stdout",
     "output_type": "stream",
     "text": [
      "b'encryption is very useful'\n"
     ]
    }
   ],
   "source": [
    "# Decrypt\n",
    "decryptedtext = f.decrypt(ciphertext)\n",
    "print(decryptedtext)"
   ]
  },
  {
   "cell_type": "markdown",
   "metadata": {
    "graffitiCellId": "id_st8lntm"
   },
   "source": [
    "Practice questions below"
   ]
  },
  {
   "cell_type": "code",
   "execution_count": 6,
   "metadata": {
    "graffitiCellId": "id_e80i71n"
   },
   "outputs": [
    {
     "name": "stdout",
     "output_type": "stream",
     "text": [
      "b'great job! remember, encryption is only as good as your key secrecy!'\n"
     ]
    }
   ],
   "source": [
    "key = b'8cozhW9kSi5poZ6TWFuMCV123zg-9NORTs3gJq_J5Do='\n",
    "f = Fernet(key)\n",
    "print(f.decrypt(b'gAAAAABc8Wf3rxaime-363wbhCaIe1FoZUdnFeIXX_Nh9qKSDkpBFPqK8L2HbkM8NCQAxY8yOWbjxzMC4b5uCaeEpqDYCRNIhnqTK8jfzFYfPdozf7NPvGzNBwuuvIxK5NZYJbxQwfK72BNrZCKpfp6frL8m8pdgYbLNFcy6jCJBXATR3gHBb0Y='))"
   ]
  },
  {
   "cell_type": "code",
   "execution_count": 8,
   "metadata": {
    "graffitiCellId": "id_pe7h24i"
   },
   "outputs": [
    {
     "name": "stdout",
     "output_type": "stream",
     "text": [
      "b'gAAAAABe4ZrfmhAgdgbIu-2lW_4xm-umKOV_ZslBDcqySVcQDnP-UyoGymrV3TLQu1ew9TdLW5pGK7GThxzQ8LNwx9-pXvQ1911Uf3aUGBOXQRHMHhbweOw='\n"
     ]
    }
   ],
   "source": [
    "message = b\"encrypting is just as useful\"\n",
    "print(f.encrypt(message))"
   ]
  },
  {
   "cell_type": "code",
   "execution_count": null,
   "metadata": {
    "graffitiCellId": "id_yz8q7b9"
   },
   "outputs": [],
   "source": []
  }
 ],
 "metadata": {
  "graffiti": {
   "firstAuthorId": "10489997357",
   "id": "id_10h5nnh",
   "language": "EN"
  },
  "kernelspec": {
   "display_name": "Python 3",
   "language": "python",
   "name": "python3"
  },
  "language_info": {
   "codemirror_mode": {
    "name": "ipython",
    "version": 3
   },
   "file_extension": ".py",
   "mimetype": "text/x-python",
   "name": "python",
   "nbconvert_exporter": "python",
   "pygments_lexer": "ipython3",
   "version": "3.6.3"
  }
 },
 "nbformat": 4,
 "nbformat_minor": 2
}
