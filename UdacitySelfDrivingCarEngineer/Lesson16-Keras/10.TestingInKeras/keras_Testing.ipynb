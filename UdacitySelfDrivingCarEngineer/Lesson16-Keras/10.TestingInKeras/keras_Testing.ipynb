{
 "cells": [
  {
   "cell_type": "code",
   "execution_count": 1,
   "metadata": {},
   "outputs": [],
   "source": [
    "import pickle\n",
    "import numpy as np\n",
    "import tensorflow as tf\n",
    "\n",
    "# Load pickled data\n",
    "with open('small_train_traffic.p', mode='rb') as f:\n",
    "    data = pickle.load(f)"
   ]
  },
  {
   "cell_type": "code",
   "execution_count": 2,
   "metadata": {},
   "outputs": [],
   "source": [
    "# Split the data\n",
    "X_train, y_train = data['features'], data['labels']"
   ]
  },
  {
   "cell_type": "code",
   "execution_count": 3,
   "metadata": {},
   "outputs": [
    {
     "name": "stderr",
     "output_type": "stream",
     "text": [
      "Using TensorFlow backend.\n"
     ]
    }
   ],
   "source": [
    "# Setup Keras\n",
    "from keras.models import Sequential\n",
    "from keras.layers.core import Dense, Activation, Flatten, Dropout\n",
    "from keras.layers.convolutional import Conv2D\n",
    "from keras.layers.pooling import MaxPooling2D"
   ]
  },
  {
   "cell_type": "code",
   "execution_count": 4,
   "metadata": {},
   "outputs": [],
   "source": [
    "# TODO: Build the Final Test Neural Network in Keras Here\n",
    "\n",
    "model = Sequential()\n",
    "\n",
    "# Convolution Layer\n",
    "model.add(Conv2D(32, kernel_size=(3, 3),\n",
    "                 activation='relu',\n",
    "                 input_shape=(32, 32, 3)))\n",
    "\n",
    "# Max pooling layer\n",
    "model.add(MaxPooling2D(pool_size=(2, 2),\n",
    "                strides=None,\n",
    "                padding='valid',\n",
    "                data_format=None))\n",
    "\n",
    "# Dropout layer\n",
    "model.add(Dropout(0.5, noise_shape=None, seed=None))\n",
    "\n",
    "#1st Layer - Add a flatten layer\n",
    "model.add(Flatten())\n",
    "\n",
    "#2nd Layer - Add a fully connected layer\n",
    "model.add(Dense(128))\n",
    "    \n",
    "#3rd Layer - Add a ReLU activation layer\n",
    "model.add(Activation('relu'))\n",
    "\n",
    "# Set the output layer width to 5\n",
    "model.add(Dense(5))\n",
    "\n",
    "#Use a softmax activation function after the output layer\n",
    "model.add(Activation('softmax'))"
   ]
  },
  {
   "cell_type": "code",
   "execution_count": 5,
   "metadata": {},
   "outputs": [],
   "source": [
    "# preprocess data\n",
    "X_normalized = np.array(X_train / 255.0 - 0.5 )\n",
    "\n",
    "from sklearn.preprocessing import LabelBinarizer\n",
    "label_binarizer = LabelBinarizer()\n",
    "y_one_hot = label_binarizer.fit_transform(y_train)"
   ]
  },
  {
   "cell_type": "code",
   "execution_count": 6,
   "metadata": {},
   "outputs": [
    {
     "name": "stdout",
     "output_type": "stream",
     "text": [
      "Train on 80 samples, validate on 20 samples\n",
      "Epoch 1/30\n",
      "80/80 [==============================] - 1s 6ms/step - loss: 1.3108 - acc: 0.4250 - val_loss: 0.7608 - val_acc: 0.6000\n",
      "Epoch 2/30\n",
      "80/80 [==============================] - 0s 3ms/step - loss: 0.8358 - acc: 0.5125 - val_loss: 0.5856 - val_acc: 0.8000\n",
      "Epoch 3/30\n",
      "80/80 [==============================] - 0s 3ms/step - loss: 0.7891 - acc: 0.7500 - val_loss: 0.4411 - val_acc: 0.8500\n",
      "Epoch 4/30\n",
      "80/80 [==============================] - 0s 3ms/step - loss: 0.4914 - acc: 0.8250 - val_loss: 0.3855 - val_acc: 0.8500\n",
      "Epoch 5/30\n",
      "80/80 [==============================] - 0s 3ms/step - loss: 0.4822 - acc: 0.7625 - val_loss: 0.2877 - val_acc: 0.8500\n",
      "Epoch 6/30\n",
      "80/80 [==============================] - 0s 3ms/step - loss: 0.4012 - acc: 0.7875 - val_loss: 0.2319 - val_acc: 1.0000\n",
      "Epoch 7/30\n",
      "80/80 [==============================] - 0s 3ms/step - loss: 0.3940 - acc: 0.8250 - val_loss: 0.1977 - val_acc: 0.8500\n",
      "Epoch 8/30\n",
      "80/80 [==============================] - 0s 3ms/step - loss: 0.3316 - acc: 0.7750 - val_loss: 0.2317 - val_acc: 0.8500\n",
      "Epoch 9/30\n",
      "80/80 [==============================] - 0s 3ms/step - loss: 0.2740 - acc: 0.8500 - val_loss: 0.1565 - val_acc: 1.0000\n",
      "Epoch 10/30\n",
      "80/80 [==============================] - 0s 3ms/step - loss: 0.2669 - acc: 0.8500 - val_loss: 0.1469 - val_acc: 1.0000\n",
      "Epoch 11/30\n",
      "80/80 [==============================] - 0s 3ms/step - loss: 0.2174 - acc: 0.8875 - val_loss: 0.2781 - val_acc: 0.8500\n",
      "Epoch 12/30\n",
      "80/80 [==============================] - 0s 3ms/step - loss: 0.2912 - acc: 0.8000 - val_loss: 0.1222 - val_acc: 1.0000\n",
      "Epoch 13/30\n",
      "80/80 [==============================] - 0s 3ms/step - loss: 0.2246 - acc: 0.8875 - val_loss: 0.1449 - val_acc: 0.8500\n",
      "Epoch 14/30\n",
      "80/80 [==============================] - 0s 3ms/step - loss: 0.2016 - acc: 0.8750 - val_loss: 0.1825 - val_acc: 0.8500\n",
      "Epoch 15/30\n",
      "80/80 [==============================] - 0s 3ms/step - loss: 0.2164 - acc: 0.8500 - val_loss: 0.0927 - val_acc: 1.0000\n",
      "Epoch 16/30\n",
      "80/80 [==============================] - 0s 3ms/step - loss: 0.1843 - acc: 0.9250 - val_loss: 0.1074 - val_acc: 1.0000\n",
      "Epoch 17/30\n",
      "80/80 [==============================] - 0s 3ms/step - loss: 0.1985 - acc: 0.9125 - val_loss: 0.1061 - val_acc: 1.0000\n",
      "Epoch 18/30\n",
      "80/80 [==============================] - 0s 3ms/step - loss: 0.1667 - acc: 0.9250 - val_loss: 0.0777 - val_acc: 1.0000\n",
      "Epoch 19/30\n",
      "80/80 [==============================] - 0s 3ms/step - loss: 0.1075 - acc: 0.9750 - val_loss: 0.0709 - val_acc: 1.0000\n",
      "Epoch 20/30\n",
      "80/80 [==============================] - 0s 3ms/step - loss: 0.1680 - acc: 0.9375 - val_loss: 0.0738 - val_acc: 1.0000\n",
      "Epoch 21/30\n",
      "80/80 [==============================] - 0s 3ms/step - loss: 0.1223 - acc: 0.9625 - val_loss: 0.0624 - val_acc: 1.0000\n",
      "Epoch 22/30\n",
      "80/80 [==============================] - 0s 3ms/step - loss: 0.1421 - acc: 0.9375 - val_loss: 0.0602 - val_acc: 1.0000\n",
      "Epoch 23/30\n",
      "80/80 [==============================] - 0s 3ms/step - loss: 0.1196 - acc: 0.9750 - val_loss: 0.0607 - val_acc: 1.0000\n",
      "Epoch 24/30\n",
      "80/80 [==============================] - 0s 3ms/step - loss: 0.1055 - acc: 0.9625 - val_loss: 0.0513 - val_acc: 1.0000\n",
      "Epoch 25/30\n",
      "80/80 [==============================] - 0s 3ms/step - loss: 0.1172 - acc: 0.9750 - val_loss: 0.0492 - val_acc: 1.0000\n",
      "Epoch 26/30\n",
      "80/80 [==============================] - 0s 3ms/step - loss: 0.0897 - acc: 0.9750 - val_loss: 0.0391 - val_acc: 1.0000\n",
      "Epoch 27/30\n",
      "80/80 [==============================] - 0s 3ms/step - loss: 0.0648 - acc: 1.0000 - val_loss: 0.0382 - val_acc: 1.0000\n",
      "Epoch 28/30\n",
      "80/80 [==============================] - 0s 3ms/step - loss: 0.0574 - acc: 1.0000 - val_loss: 0.0344 - val_acc: 1.0000\n",
      "Epoch 29/30\n",
      "80/80 [==============================] - 0s 3ms/step - loss: 0.0639 - acc: 1.0000 - val_loss: 0.0350 - val_acc: 1.0000\n",
      "Epoch 30/30\n",
      "80/80 [==============================] - 0s 3ms/step - loss: 0.0856 - acc: 0.9750 - val_loss: 0.0282 - val_acc: 1.0000\n"
     ]
    }
   ],
   "source": [
    "# compile and fit the model\n",
    "model.compile('adam', 'categorical_crossentropy', ['accuracy'])\n",
    "history = model.fit(X_normalized, y_one_hot, epochs=30, validation_split=0.2)"
   ]
  },
  {
   "cell_type": "code",
   "execution_count": 7,
   "metadata": {},
   "outputs": [
    {
     "name": "stdout",
     "output_type": "stream",
     "text": [
      "Testing\n",
      "20/20 [==============================] - 0s 646us/step\n",
      "loss: 0.0536164864897728\n",
      "acc: 1.0\n"
     ]
    }
   ],
   "source": [
    "# evaluate model against the test data\n",
    "with open('small_test_traffic.p', 'rb') as f:\n",
    "    data_test = pickle.load(f)\n",
    "\n",
    "X_test = data_test['features']\n",
    "y_test = data_test['labels']\n",
    "\n",
    "# preprocess data\n",
    "X_normalized_test = np.array(X_test / 255.0 - 0.5 )\n",
    "y_one_hot_test = label_binarizer.fit_transform(y_test)\n",
    "\n",
    "print(\"Testing\")\n",
    "\n",
    "metrics = model.evaluate(X_normalized_test, y_one_hot_test)\n",
    "for metric_i in range(len(model.metrics_names)):\n",
    "    metric_name = model.metrics_names[metric_i]\n",
    "    metric_value = metrics[metric_i]\n",
    "    print('{}: {}'.format(metric_name, metric_value))    "
   ]
  },
  {
   "cell_type": "code",
   "execution_count": 8,
   "metadata": {},
   "outputs": [
    {
     "name": "stdout",
     "output_type": "stream",
     "text": [
      "Nice, accuracy was 1.0\n",
      "Good Job, accuracy was above 90%\n",
      "\n"
     ]
    }
   ],
   "source": [
    "### DON'T MODIFY ANYTHING BELOW ###\n",
    "### Be sure to run all cells above before running this cell ###\n",
    "import grader\n",
    "\n",
    "try:\n",
    "    grader.run_grader(metrics)\n",
    "except Exception as err:\n",
    "    print(str(err))"
   ]
  }
 ],
 "metadata": {
  "kernelspec": {
   "display_name": "Python 3",
   "language": "python",
   "name": "python3"
  },
  "language_info": {
   "codemirror_mode": {
    "name": "ipython",
    "version": 3
   },
   "file_extension": ".py",
   "mimetype": "text/x-python",
   "name": "python",
   "nbconvert_exporter": "python",
   "pygments_lexer": "ipython3",
   "version": "3.6.3"
  }
 },
 "nbformat": 4,
 "nbformat_minor": 2
}
